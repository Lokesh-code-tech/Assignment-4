{
 "cells": [
  {
   "cell_type": "code",
   "execution_count": 1,
   "metadata": {},
   "outputs": [
    {
     "name": "stdout",
     "output_type": "stream",
     "text": [
      "area of triangle is6.0\n"
     ]
    }
   ],
   "source": [
    "class A:\n",
    "    def __init__(self,a,b,c):\n",
    "        self.a = a\n",
    "        self.b = b\n",
    "        self.c = c\n",
    "class B(A):\n",
    "   \n",
    "    def area1(self): \n",
    "    \n",
    "        s = (self.a + self.b + self.c)/2\n",
    "        area = (s*(s-self.a)*(s-self.b)*(s-self.c))**0.5\n",
    "        return \"area of triangle is\" + str(area)\n",
    "    \n",
    "x = B(5,4,3)            \n",
    "print(x.area1())"
   ]
  },
  {
   "cell_type": "code",
   "execution_count": 26,
   "metadata": {},
   "outputs": [
    {
     "data": {
      "text/plain": [
       "['hello', 'world', 'lokesh', 'bansal']"
      ]
     },
     "execution_count": 26,
     "metadata": {},
     "output_type": "execute_result"
    }
   ],
   "source": [
    "def filter_longwords(num):\n",
    "    list = []\n",
    "    for j in (num):\n",
    "        if type(j)== int:\n",
    "            x = j\n",
    "            break\n",
    "    for i in (num):\n",
    "        if len(str(i)) > x:\n",
    "            list.append(i)\n",
    "    return (list)\n",
    "\n",
    "a = filter_longwords([\"hello\",\"world\",4,'lokesh','bansal','hi'])\n",
    "a\n"
   ]
  },
  {
   "cell_type": "code",
   "execution_count": 31,
   "metadata": {},
   "outputs": [
    {
     "data": {
      "text/plain": [
       "[3, 5, 4]"
      ]
     },
     "execution_count": 31,
     "metadata": {},
     "output_type": "execute_result"
    }
   ],
   "source": [
    "def count(num):\n",
    "    list1 = []\n",
    "    for i in num:\n",
    "        list1.append(len(i))\n",
    "    return list1\n",
    "a = count([\"why\",'where','when'])\n",
    "a"
   ]
  },
  {
   "cell_type": "code",
   "execution_count": 34,
   "metadata": {},
   "outputs": [
    {
     "data": {
      "text/plain": [
       "False"
      ]
     },
     "execution_count": 34,
     "metadata": {},
     "output_type": "execute_result"
    }
   ],
   "source": [
    "def vowel(a):\n",
    "    list = ['a','e','i','o','u']\n",
    "    if a in list:\n",
    "        return True\n",
    "    else:\n",
    "        return False\n",
    "x = vowel('c')\n",
    "x\n",
    "    "
   ]
  },
  {
   "cell_type": "code",
   "execution_count": null,
   "metadata": {},
   "outputs": [],
   "source": []
  }
 ],
 "metadata": {
  "kernelspec": {
   "display_name": "Python 3",
   "language": "python",
   "name": "python3"
  },
  "language_info": {
   "codemirror_mode": {
    "name": "ipython",
    "version": 3
   },
   "file_extension": ".py",
   "mimetype": "text/x-python",
   "name": "python",
   "nbconvert_exporter": "python",
   "pygments_lexer": "ipython3",
   "version": "3.7.6"
  }
 },
 "nbformat": 4,
 "nbformat_minor": 4
}
